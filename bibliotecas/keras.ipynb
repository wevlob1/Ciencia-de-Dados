{
 "cells": [
  {
   "cell_type": "markdown",
   "metadata": {},
   "source": [
    "# Projetando Redes Neurais com Tensor Flow e otimizando com Keras\n"
   ]
  },
  {
   "cell_type": "markdown",
   "metadata": {},
   "source": [
    "- Esse notebook tem como finalidade registrar as anotações sobre o estudo da biblioteca keras\n"
   ]
  },
  {
   "cell_type": "markdown",
   "metadata": {},
   "source": [
    "### Introdução ao Keras"
   ]
  },
  {
   "cell_type": "markdown",
   "metadata": {},
   "source": [
    "- importando o keras"
   ]
  },
  {
   "cell_type": "code",
   "execution_count": 1,
   "metadata": {},
   "outputs": [
    {
     "name": "stdout",
     "output_type": "stream",
     "text": [
      "3.6.0\n"
     ]
    }
   ],
   "source": [
    "import keras \n",
    "import numpy as np\n",
    "print(keras.__version__)"
   ]
  },
  {
   "cell_type": "markdown",
   "metadata": {},
   "source": [
    "# models"
   ]
  },
  {
   "cell_type": "markdown",
   "metadata": {},
   "source": [
    "### Model class\n",
    "\n",
    "- é um grupo de camadas em um objeto de treino, model possui dois parâmetros a entrada e a saida"
   ]
  },
  {
   "cell_type": "code",
   "execution_count": null,
   "metadata": {},
   "outputs": [],
   "source": [
    "keras.Model()"
   ]
  },
  {
   "cell_type": "markdown",
   "metadata": {},
   "source": [
    "### Functional API\n",
    "\n",
    "- o uso é bastante simples, você cria uma camada,com suas expecificações de quantidade de nós,modelo de ativação, neste caso é o 'relu' e em seguida conecta essa camada com a próxima"
   ]
  },
  {
   "cell_type": "code",
   "execution_count": null,
   "metadata": {},
   "outputs": [],
   "source": [
    "inputs = keras.Input(shape=(37,)) #camada de entrada\n",
    "inputs\n",
    "\n",
    "x = keras.layers.Dense(32,activation='relu')(inputs)\n",
    "outputs = keras.layers.Dense(5,activation='softmax')(x)\n",
    "model = keras.Model(inputs=inputs,outputs=outputs)"
   ]
  },
  {
   "cell_type": "markdown",
   "metadata": {},
   "source": [
    "- vejamos um modelo mais complexo"
   ]
  },
  {
   "cell_type": "code",
   "execution_count": null,
   "metadata": {},
   "outputs": [],
   "source": [
    "\n",
    "inputs2 = keras.Input(shape=(None,None,3))\n",
    "processed2 = keras.layers.RandomCrop(width=128,height=128)(inputs2)\n",
    "\n",
    "conv2 = keras.layers.Conv2D(filters=32,kernel_size=3)(processed2)\n",
    "pooling2 = keras.layers.GlobalAveragePooling2D()(conv2)\n",
    "feature2 = keras.layers.Dense(10)(pooling2)\n",
    "\n",
    "full_model2 = keras.Model(inputs2,feature2)\n",
    "backbone = keras.Model(processed2,conv2)\n",
    "activations = keras.Model(conv2,feature2)\n"
   ]
  },
  {
   "cell_type": "markdown",
   "metadata": {},
   "source": [
    "- no código acima temos três modelos (full_model2,backbone e activations) o modelo completo (full_mode2) tem:\n",
    "    * inputs2 - 3 neuronios de entrada. \n",
    "    * processed2 - camada de processamento que reduz o tamanho da imagem para 128 x 128 píxels.\n",
    "    * conv2 - camada convolucional que utiliza um kernel de 3x3 para multiplicar individualmente os píxels e seleciona o maior e adiciona em uma matriz de 32 x 32  \n",
    "    * pooling2 - camada que coleta a transversal de um array bi-dimencional e armazena em um objeto\n",
    "    * feature2 - camada Densa que efetua o treino de fato usando um modelo neural como o perceptrom\n",
    "\n",
    "- full_model2 - Modelo Completo com todas as camadas de processamento e camadas de treino\n",
    "- backbone -  extração de dados e parâmetros sobre as camadas iniciais de processamento\n",
    "- activations - usada na extração de parâmetros sobre as camadas de treino "
   ]
  },
  {
   "cell_type": "markdown",
   "metadata": {},
   "source": [
    "# Usando Models e Subclasses"
   ]
  },
  {
   "cell_type": "code",
   "execution_count": 27,
   "metadata": {},
   "outputs": [],
   "source": [
    "class MyModel(keras.Model):\n",
    "    def __init__(self):\n",
    "        super().__init__()\n",
    "        self.dense1 = keras.layers.Dense(32, activation='relu')\n",
    "        self.dense2 = keras.layers.Dense(5,activation='softmax')\n",
    "\n",
    "    def call(self,inputs):\n",
    "        x = self.dense1(inputs)\n",
    "        return self.dense2(x)\n",
    "    \n",
    "\n",
    "model3 = MyModel()        "
   ]
  },
  {
   "cell_type": "code",
   "execution_count": null,
   "metadata": {},
   "outputs": [],
   "source": [
    "class MyModel(keras.Model):\n",
    "    def __init__(self):\n",
    "        super().__init__()\n",
    "        self.dense1 = keras.layers.Dense(32, activation=\"relu\")\n",
    "        self.dense2 = keras.layers.Dense(5, activation=\"softmax\")\n",
    "        self.dropout = keras.layers.Dropout(0.5)\n",
    "\n",
    "    def call(self, inputs, training=False):\n",
    "        x = self.dense1(inputs)\n",
    "        x = self.dropout(x, training=training)\n",
    "        return self.dense2(x)\n",
    "\n",
    "model4 = MyModel()"
   ]
  },
  {
   "cell_type": "markdown",
   "metadata": {},
   "source": [
    "# usando Classes Sequenciais\n",
    "\n",
    "- outro método para a montagem de modelos é usando modelos sequenciais, onde a a saíde de uma camada automaticamente será conectada na entrada da camada seguinte"
   ]
  },
  {
   "cell_type": "code",
   "execution_count": null,
   "metadata": {},
   "outputs": [],
   "source": [
    "model5 = keras.Sequential([\n",
    "    keras.Input(shape=(None,None,3)),\n",
    "    keras.layers.Conv2D(filters=32,kernel_size=3),\n",
    "]) "
   ]
  },
  {
   "cell_type": "markdown",
   "metadata": {},
   "source": [
    "### método summary() | summary method"
   ]
  },
  {
   "cell_type": "markdown",
   "metadata": {},
   "source": [
    "# API de camadas | keras layers API"
   ]
  },
  {
   "cell_type": "code",
   "execution_count": 28,
   "metadata": {},
   "outputs": [],
   "source": [
    "import keras\n",
    "from keras import layers\n",
    "\n",
    "layer = layers.Dense(32, activation='relu')\n",
    "inputs = keras.random.uniform(shape=(10, 20))\n",
    "outputs = layer(inputs)"
   ]
  },
  {
   "cell_type": "code",
   "execution_count": 29,
   "metadata": {},
   "outputs": [
    {
     "data": {
      "text/plain": [
       "[<KerasVariable shape=(20, 32), dtype=float32, path=dense_12/kernel>,\n",
       " <KerasVariable shape=(32,), dtype=float32, path=dense_12/bias>]"
      ]
     },
     "execution_count": 29,
     "metadata": {},
     "output_type": "execute_result"
    }
   ],
   "source": [
    "layer.weights"
   ]
  },
  {
   "cell_type": "markdown",
   "metadata": {},
   "source": [
    "### Camadas de Ativação | Activation Layers Functions"
   ]
  },
  {
   "cell_type": "markdown",
   "metadata": {},
   "source": [
    "#### relu function"
   ]
  },
  {
   "cell_type": "code",
   "execution_count": 30,
   "metadata": {},
   "outputs": [
    {
     "data": {
      "text/plain": [
       "<tf.Tensor: shape=(5,), dtype=float32, numpy=array([ 0.,  0.,  0.,  5., 10.], dtype=float32)>"
      ]
     },
     "execution_count": 30,
     "metadata": {},
     "output_type": "execute_result"
    }
   ],
   "source": [
    "x = [-10, -5, 0.0, 5, 10]\n",
    "keras.activations.relu(x)"
   ]
  },
  {
   "cell_type": "markdown",
   "metadata": {},
   "source": [
    "- relu seleciona apenas os valores positivos de um array"
   ]
  },
  {
   "cell_type": "markdown",
   "metadata": {},
   "source": [
    "#### sigmoid function"
   ]
  },
  {
   "cell_type": "code",
   "execution_count": 42,
   "metadata": {},
   "outputs": [
    {
     "data": {
      "text/plain": [
       "<tf.Tensor: shape=(5,), dtype=float32, numpy=\n",
       "array([4.539787e-05, 6.692851e-03, 5.000000e-01, 9.933072e-01,\n",
       "       9.999546e-01], dtype=float32)>"
      ]
     },
     "execution_count": 42,
     "metadata": {},
     "output_type": "execute_result"
    }
   ],
   "source": [
    "x = [-10, -5, 0.0, 5, 10]\n",
    "keras.activations.sigmoid(x)"
   ]
  },
  {
   "cell_type": "markdown",
   "metadata": {},
   "source": [
    "- sigmoid so aceita valores decimais e retorna sempre valores entre -1 e 1 realizando o seguinte cálculo:\n",
    "sigmoid(x) = 1 / (1 + exp(-x))."
   ]
  },
  {
   "cell_type": "markdown",
   "metadata": {},
   "source": [
    "#### softmax function"
   ]
  },
  {
   "cell_type": "code",
   "execution_count": null,
   "metadata": {},
   "outputs": [],
   "source": [
    "keras.activations.softmax(x, axis=-1)"
   ]
  },
  {
   "cell_type": "markdown",
   "metadata": {},
   "source": [
    "### Camadas de Pre-processamento | Preprocessing layers"
   ]
  },
  {
   "cell_type": "markdown",
   "metadata": {},
   "source": [
    "#### Image preprocessing layer"
   ]
  },
  {
   "cell_type": "markdown",
   "metadata": {},
   "source": [
    "#### resizing class"
   ]
  },
  {
   "cell_type": "code",
   "execution_count": null,
   "metadata": {},
   "outputs": [],
   "source": [
    "keras.layers.Resizing(\n",
    "    height,\n",
    "    width,\n",
    "    interpolation=\"bilinear\",\n",
    "    crop_to_aspect_ratio=False,\n",
    "    pad_to_aspect_ratio=False,\n",
    "    fill_mode=\"constant\",\n",
    "    fill_value=0.0,\n",
    "    data_format=None,\n",
    "    **kwargs\n",
    ")"
   ]
  },
  {
   "cell_type": "markdown",
   "metadata": {},
   "source": [
    "#### rescaling class"
   ]
  },
  {
   "cell_type": "code",
   "execution_count": null,
   "metadata": {},
   "outputs": [],
   "source": [
    "keras.layers.Rescaling(scale, offset=0.0, **kwargs)"
   ]
  }
 ],
 "metadata": {
  "kernelspec": {
   "display_name": "Python 3",
   "language": "python",
   "name": "python3"
  },
  "language_info": {
   "codemirror_mode": {
    "name": "ipython",
    "version": 3
   },
   "file_extension": ".py",
   "mimetype": "text/x-python",
   "name": "python",
   "nbconvert_exporter": "python",
   "pygments_lexer": "ipython3",
   "version": "3.12.3"
  },
  "orig_nbformat": 4
 },
 "nbformat": 4,
 "nbformat_minor": 2
}
