{
 "cells": [
  {
   "cell_type": "markdown",
   "id": "109adb5f",
   "metadata": {},
   "source": [
    "# Anotações de Estudo sobre a biblioteca Pandas"
   ]
  },
  {
   "cell_type": "code",
   "execution_count": 1,
   "id": "aa465c44-4b4c-4632-8ca8-32335b19dede",
   "metadata": {},
   "outputs": [],
   "source": [
    "import pandas as pd\n",
    "import numpy as np"
   ]
  },
  {
   "cell_type": "code",
   "execution_count": 2,
   "id": "d6b41d79-b8be-4a59-9818-c594ac3021f8",
   "metadata": {},
   "outputs": [
    {
     "data": {
      "text/plain": [
       "0    1.0\n",
       "1    2.0\n",
       "2    3.0\n",
       "3    NaN\n",
       "4    6.0\n",
       "5    8.0\n",
       "dtype: float64"
      ]
     },
     "execution_count": 2,
     "metadata": {},
     "output_type": "execute_result"
    }
   ],
   "source": [
    "#series são uma lista de valores no qual o pandas criará automaticamente um indice \n",
    "pd.Series([1,2,3,np.nan,6,8])"
   ]
  },
  {
   "cell_type": "markdown",
   "id": "4144c438",
   "metadata": {},
   "source": [
    "np.random.randn(n_linhas,n_colunas,index=list_index,columns=list())"
   ]
  },
  {
   "cell_type": "code",
   "execution_count": 3,
   "id": "c8dc8c33-b961-44a4-992b-76a57f0dfb19",
   "metadata": {},
   "outputs": [
    {
     "data": {
      "text/html": [
       "<div>\n",
       "<style scoped>\n",
       "    .dataframe tbody tr th:only-of-type {\n",
       "        vertical-align: middle;\n",
       "    }\n",
       "\n",
       "    .dataframe tbody tr th {\n",
       "        vertical-align: top;\n",
       "    }\n",
       "\n",
       "    .dataframe thead th {\n",
       "        text-align: right;\n",
       "    }\n",
       "</style>\n",
       "<table border=\"1\" class=\"dataframe\">\n",
       "  <thead>\n",
       "    <tr style=\"text-align: right;\">\n",
       "      <th></th>\n",
       "      <th>A</th>\n",
       "      <th>B</th>\n",
       "      <th>C</th>\n",
       "      <th>D</th>\n",
       "    </tr>\n",
       "  </thead>\n",
       "  <tbody>\n",
       "    <tr>\n",
       "      <th>2024-01-01</th>\n",
       "      <td>0.759040</td>\n",
       "      <td>-0.834354</td>\n",
       "      <td>0.444715</td>\n",
       "      <td>0.634345</td>\n",
       "    </tr>\n",
       "    <tr>\n",
       "      <th>2024-01-02</th>\n",
       "      <td>-1.299071</td>\n",
       "      <td>1.759429</td>\n",
       "      <td>1.993400</td>\n",
       "      <td>-0.692261</td>\n",
       "    </tr>\n",
       "    <tr>\n",
       "      <th>2024-01-03</th>\n",
       "      <td>-2.061060</td>\n",
       "      <td>-1.084371</td>\n",
       "      <td>2.016134</td>\n",
       "      <td>0.946107</td>\n",
       "    </tr>\n",
       "    <tr>\n",
       "      <th>2024-01-04</th>\n",
       "      <td>-0.601836</td>\n",
       "      <td>-0.442779</td>\n",
       "      <td>-0.481264</td>\n",
       "      <td>-1.032713</td>\n",
       "    </tr>\n",
       "    <tr>\n",
       "      <th>2024-01-05</th>\n",
       "      <td>-0.411210</td>\n",
       "      <td>-1.403413</td>\n",
       "      <td>-0.083258</td>\n",
       "      <td>-0.025262</td>\n",
       "    </tr>\n",
       "    <tr>\n",
       "      <th>2024-01-06</th>\n",
       "      <td>-0.246921</td>\n",
       "      <td>1.074901</td>\n",
       "      <td>0.438909</td>\n",
       "      <td>0.100279</td>\n",
       "    </tr>\n",
       "  </tbody>\n",
       "</table>\n",
       "</div>"
      ],
      "text/plain": [
       "                   A         B         C         D\n",
       "2024-01-01  0.759040 -0.834354  0.444715  0.634345\n",
       "2024-01-02 -1.299071  1.759429  1.993400 -0.692261\n",
       "2024-01-03 -2.061060 -1.084371  2.016134  0.946107\n",
       "2024-01-04 -0.601836 -0.442779 -0.481264 -1.032713\n",
       "2024-01-05 -0.411210 -1.403413 -0.083258 -0.025262\n",
       "2024-01-06 -0.246921  1.074901  0.438909  0.100279"
      ]
     },
     "execution_count": 3,
     "metadata": {},
     "output_type": "execute_result"
    }
   ],
   "source": [
    "# dataframes são estruturas multidimensionais com linhas e colunas como tabelas de excel, bancos de dados etc,\n",
    "# no exemplo abaixo passamos um array criado pela biblioteca numpy que tem a data como indice usando a função date_range()\n",
    "dates = pd.date_range(\"20240101\",periods=6)\n",
    "dates\n",
    "\n",
    "# em seguida criamos um datafram que tem a variavel dates como indice, uma lista de A a D como colunas e os dados serão gerados utilizando a função random.randn(numero_linhas,numero_colunas)\n",
    "df = pd.DataFrame(np.random.randn(6,4),index=dates,columns=list(\"ABCD\"))\n",
    "df"
   ]
  },
  {
   "cell_type": "code",
   "execution_count": 4,
   "id": "efcb1c96-a1c8-4f41-b41f-f4d72259ce0e",
   "metadata": {},
   "outputs": [
    {
     "data": {
      "text/html": [
       "<div>\n",
       "<style scoped>\n",
       "    .dataframe tbody tr th:only-of-type {\n",
       "        vertical-align: middle;\n",
       "    }\n",
       "\n",
       "    .dataframe tbody tr th {\n",
       "        vertical-align: top;\n",
       "    }\n",
       "\n",
       "    .dataframe thead th {\n",
       "        text-align: right;\n",
       "    }\n",
       "</style>\n",
       "<table border=\"1\" class=\"dataframe\">\n",
       "  <thead>\n",
       "    <tr style=\"text-align: right;\">\n",
       "      <th></th>\n",
       "      <th>A</th>\n",
       "      <th>B</th>\n",
       "      <th>C</th>\n",
       "      <th>D</th>\n",
       "      <th>E</th>\n",
       "      <th>F</th>\n",
       "    </tr>\n",
       "  </thead>\n",
       "  <tbody>\n",
       "    <tr>\n",
       "      <th>0</th>\n",
       "      <td>1.0</td>\n",
       "      <td>2024-01-02</td>\n",
       "      <td>1.0</td>\n",
       "      <td>3</td>\n",
       "      <td>test</td>\n",
       "      <td>foo</td>\n",
       "    </tr>\n",
       "    <tr>\n",
       "      <th>1</th>\n",
       "      <td>1.0</td>\n",
       "      <td>2024-01-02</td>\n",
       "      <td>1.0</td>\n",
       "      <td>3</td>\n",
       "      <td>train</td>\n",
       "      <td>foo</td>\n",
       "    </tr>\n",
       "    <tr>\n",
       "      <th>2</th>\n",
       "      <td>1.0</td>\n",
       "      <td>2024-01-02</td>\n",
       "      <td>1.0</td>\n",
       "      <td>3</td>\n",
       "      <td>item 5</td>\n",
       "      <td>foo</td>\n",
       "    </tr>\n",
       "    <tr>\n",
       "      <th>3</th>\n",
       "      <td>1.0</td>\n",
       "      <td>2024-01-02</td>\n",
       "      <td>1.0</td>\n",
       "      <td>3</td>\n",
       "      <td>train</td>\n",
       "      <td>foo</td>\n",
       "    </tr>\n",
       "  </tbody>\n",
       "</table>\n",
       "</div>"
      ],
      "text/plain": [
       "     A          B    C  D       E    F\n",
       "0  1.0 2024-01-02  1.0  3    test  foo\n",
       "1  1.0 2024-01-02  1.0  3   train  foo\n",
       "2  1.0 2024-01-02  1.0  3  item 5  foo\n",
       "3  1.0 2024-01-02  1.0  3   train  foo"
      ]
     },
     "execution_count": 4,
     "metadata": {},
     "output_type": "execute_result"
    }
   ],
   "source": [
    "#criando um dataframe passando um dicionário de objetos quando a chave é a coluna e os valoes são os valores das colunas\n",
    "df2 = pd.DataFrame({\n",
    "    \"A\":1.0,\n",
    "    \"B\":pd.Timestamp(\"20240102\"),\n",
    "    \"C\":pd.Series(1,index=list(range(4)),dtype=\"float32\"),\n",
    "    \"D\":np.array([3] * 4,dtype=\"int32\"),\n",
    "    \"E\": pd.Categorical([\"test\",\"train\",\"item 5\",\"train\"]),\n",
    "    \"F\":\"foo\",\n",
    "})\n",
    "\n",
    "df2"
   ]
  },
  {
   "cell_type": "code",
   "execution_count": 5,
   "id": "b63097f2-a926-4c45-9322-5450e1d0a994",
   "metadata": {},
   "outputs": [
    {
     "data": {
      "text/plain": [
       "A          float64\n",
       "B    datetime64[s]\n",
       "C          float32\n",
       "D            int32\n",
       "E         category\n",
       "F           object\n",
       "dtype: object"
      ]
     },
     "execution_count": 5,
     "metadata": {},
     "output_type": "execute_result"
    }
   ],
   "source": [
    "#as colunas tem diferentes tipos ou \"dtypes\"\n",
    "df2.dtypes"
   ]
  },
  {
   "cell_type": "code",
   "execution_count": 6,
   "id": "3d137b41-43c9-47bf-88d9-a6851619e522",
   "metadata": {},
   "outputs": [
    {
     "data": {
      "text/html": [
       "<div>\n",
       "<style scoped>\n",
       "    .dataframe tbody tr th:only-of-type {\n",
       "        vertical-align: middle;\n",
       "    }\n",
       "\n",
       "    .dataframe tbody tr th {\n",
       "        vertical-align: top;\n",
       "    }\n",
       "\n",
       "    .dataframe thead th {\n",
       "        text-align: right;\n",
       "    }\n",
       "</style>\n",
       "<table border=\"1\" class=\"dataframe\">\n",
       "  <thead>\n",
       "    <tr style=\"text-align: right;\">\n",
       "      <th></th>\n",
       "      <th>A</th>\n",
       "      <th>B</th>\n",
       "      <th>C</th>\n",
       "      <th>D</th>\n",
       "    </tr>\n",
       "  </thead>\n",
       "  <tbody>\n",
       "    <tr>\n",
       "      <th>2024-01-04</th>\n",
       "      <td>-0.601836</td>\n",
       "      <td>-0.442779</td>\n",
       "      <td>-0.481264</td>\n",
       "      <td>-1.032713</td>\n",
       "    </tr>\n",
       "    <tr>\n",
       "      <th>2024-01-05</th>\n",
       "      <td>-0.411210</td>\n",
       "      <td>-1.403413</td>\n",
       "      <td>-0.083258</td>\n",
       "      <td>-0.025262</td>\n",
       "    </tr>\n",
       "    <tr>\n",
       "      <th>2024-01-06</th>\n",
       "      <td>-0.246921</td>\n",
       "      <td>1.074901</td>\n",
       "      <td>0.438909</td>\n",
       "      <td>0.100279</td>\n",
       "    </tr>\n",
       "  </tbody>\n",
       "</table>\n",
       "</div>"
      ],
      "text/plain": [
       "                   A         B         C         D\n",
       "2024-01-04 -0.601836 -0.442779 -0.481264 -1.032713\n",
       "2024-01-05 -0.411210 -1.403413 -0.083258 -0.025262\n",
       "2024-01-06 -0.246921  1.074901  0.438909  0.100279"
      ]
     },
     "execution_count": 6,
     "metadata": {},
     "output_type": "execute_result"
    }
   ],
   "source": [
    "#visualização de dados\n",
    "#utilize DataFrame.head() and DataFrame.tail() para vwe o topo e a base das linhas do respectivo Dataframe\n",
    "df.tail(3)"
   ]
  },
  {
   "cell_type": "code",
   "execution_count": 7,
   "id": "a2f17fdc-963a-44b9-845d-04be827835a3",
   "metadata": {},
   "outputs": [
    {
     "data": {
      "text/plain": [
       "DatetimeIndex(['2024-01-01', '2024-01-02', '2024-01-03', '2024-01-04',\n",
       "               '2024-01-05', '2024-01-06'],\n",
       "              dtype='datetime64[ns]', freq='D')"
      ]
     },
     "execution_count": 7,
     "metadata": {},
     "output_type": "execute_result"
    }
   ],
   "source": [
    "#DataFrame.index mostra o índice e DataFrame.columns mostra o conteúdo das colunas\n",
    "\n",
    "df.index"
   ]
  },
  {
   "cell_type": "code",
   "execution_count": 8,
   "id": "2cfafc1f-a013-412c-bd5c-8a793eb1e06d",
   "metadata": {},
   "outputs": [
    {
     "data": {
      "text/plain": [
       "Index(['A', 'B', 'C', 'D'], dtype='object')"
      ]
     },
     "execution_count": 8,
     "metadata": {},
     "output_type": "execute_result"
    }
   ],
   "source": [
    "df.columns"
   ]
  },
  {
   "cell_type": "code",
   "execution_count": 9,
   "id": "37f55825-e3e3-43fb-9eae-2b080eb27385",
   "metadata": {},
   "outputs": [
    {
     "data": {
      "text/plain": [
       "array([[ 0.75904037, -0.83435383,  0.44471547,  0.63434537],\n",
       "       [-1.29907054,  1.75942946,  1.99340031, -0.69226082],\n",
       "       [-2.06106005, -1.0843709 ,  2.01613448,  0.9461068 ],\n",
       "       [-0.60183595, -0.44277908, -0.48126442, -1.03271283],\n",
       "       [-0.41120971, -1.40341262, -0.08325832, -0.0252618 ],\n",
       "       [-0.24692056,  1.07490133,  0.43890851,  0.10027876]])"
      ]
     },
     "execution_count": 9,
     "metadata": {},
     "output_type": "execute_result"
    }
   ],
   "source": [
    "df.to_numpy()"
   ]
  },
  {
   "cell_type": "code",
   "execution_count": 10,
   "id": "5f851148-8aeb-47ed-81bd-c0bddf9211ba",
   "metadata": {},
   "outputs": [
    {
     "data": {
      "text/plain": [
       "A          float64\n",
       "B    datetime64[s]\n",
       "C          float32\n",
       "D            int32\n",
       "E         category\n",
       "F           object\n",
       "dtype: object"
      ]
     },
     "execution_count": 10,
     "metadata": {},
     "output_type": "execute_result"
    }
   ],
   "source": [
    "#Arrays NumPy tem on dtypes pra cada array inteiro enquanto Pandas DataFrames tem um dtypes por coluna \n",
    "#Quando chamamos DataFrame.to_numpy(), pandas vai procurar o dtype que mais se adequa a todos os dtypes do DataFrame, O mais comum é o type 'objetc'\n",
    "df2.dtypes"
   ]
  },
  {
   "cell_type": "code",
   "execution_count": 11,
   "id": "3f80a063-0e80-441e-8634-bfc1ba5af9bc",
   "metadata": {},
   "outputs": [
    {
     "data": {
      "text/plain": [
       "array([[1.0, Timestamp('2024-01-02 00:00:00'), 1.0, 3, 'test', 'foo'],\n",
       "       [1.0, Timestamp('2024-01-02 00:00:00'), 1.0, 3, 'train', 'foo'],\n",
       "       [1.0, Timestamp('2024-01-02 00:00:00'), 1.0, 3, 'item 5', 'foo'],\n",
       "       [1.0, Timestamp('2024-01-02 00:00:00'), 1.0, 3, 'train', 'foo']],\n",
       "      dtype=object)"
      ]
     },
     "execution_count": 11,
     "metadata": {},
     "output_type": "execute_result"
    }
   ],
   "source": [
    "df2.to_numpy()"
   ]
  },
  {
   "cell_type": "code",
   "execution_count": 12,
   "id": "a0a4a651-1c20-4348-9a59-39b39baa7baa",
   "metadata": {},
   "outputs": [
    {
     "data": {
      "text/html": [
       "<div>\n",
       "<style scoped>\n",
       "    .dataframe tbody tr th:only-of-type {\n",
       "        vertical-align: middle;\n",
       "    }\n",
       "\n",
       "    .dataframe tbody tr th {\n",
       "        vertical-align: top;\n",
       "    }\n",
       "\n",
       "    .dataframe thead th {\n",
       "        text-align: right;\n",
       "    }\n",
       "</style>\n",
       "<table border=\"1\" class=\"dataframe\">\n",
       "  <thead>\n",
       "    <tr style=\"text-align: right;\">\n",
       "      <th></th>\n",
       "      <th>A</th>\n",
       "      <th>B</th>\n",
       "      <th>C</th>\n",
       "      <th>D</th>\n",
       "    </tr>\n",
       "  </thead>\n",
       "  <tbody>\n",
       "    <tr>\n",
       "      <th>count</th>\n",
       "      <td>6.000000</td>\n",
       "      <td>6.000000</td>\n",
       "      <td>6.000000</td>\n",
       "      <td>6.000000</td>\n",
       "    </tr>\n",
       "    <tr>\n",
       "      <th>mean</th>\n",
       "      <td>-0.643509</td>\n",
       "      <td>-0.155098</td>\n",
       "      <td>0.721439</td>\n",
       "      <td>-0.011584</td>\n",
       "    </tr>\n",
       "    <tr>\n",
       "      <th>std</th>\n",
       "      <td>0.961180</td>\n",
       "      <td>1.276268</td>\n",
       "      <td>1.053048</td>\n",
       "      <td>0.755397</td>\n",
       "    </tr>\n",
       "    <tr>\n",
       "      <th>min</th>\n",
       "      <td>-2.061060</td>\n",
       "      <td>-1.403413</td>\n",
       "      <td>-0.481264</td>\n",
       "      <td>-1.032713</td>\n",
       "    </tr>\n",
       "    <tr>\n",
       "      <th>25%</th>\n",
       "      <td>-1.124762</td>\n",
       "      <td>-1.021867</td>\n",
       "      <td>0.047283</td>\n",
       "      <td>-0.525511</td>\n",
       "    </tr>\n",
       "    <tr>\n",
       "      <th>50%</th>\n",
       "      <td>-0.506523</td>\n",
       "      <td>-0.638566</td>\n",
       "      <td>0.441812</td>\n",
       "      <td>0.037508</td>\n",
       "    </tr>\n",
       "    <tr>\n",
       "      <th>75%</th>\n",
       "      <td>-0.287993</td>\n",
       "      <td>0.695481</td>\n",
       "      <td>1.606229</td>\n",
       "      <td>0.500829</td>\n",
       "    </tr>\n",
       "    <tr>\n",
       "      <th>max</th>\n",
       "      <td>0.759040</td>\n",
       "      <td>1.759429</td>\n",
       "      <td>2.016134</td>\n",
       "      <td>0.946107</td>\n",
       "    </tr>\n",
       "  </tbody>\n",
       "</table>\n",
       "</div>"
      ],
      "text/plain": [
       "              A         B         C         D\n",
       "count  6.000000  6.000000  6.000000  6.000000\n",
       "mean  -0.643509 -0.155098  0.721439 -0.011584\n",
       "std    0.961180  1.276268  1.053048  0.755397\n",
       "min   -2.061060 -1.403413 -0.481264 -1.032713\n",
       "25%   -1.124762 -1.021867  0.047283 -0.525511\n",
       "50%   -0.506523 -0.638566  0.441812  0.037508\n",
       "75%   -0.287993  0.695481  1.606229  0.500829\n",
       "max    0.759040  1.759429  2.016134  0.946107"
      ]
     },
     "execution_count": 12,
     "metadata": {},
     "output_type": "execute_result"
    }
   ],
   "source": [
    "#DataFrame.describe() mostra um sumário estatístico rápido dos dados\n",
    "df.describe()"
   ]
  },
  {
   "cell_type": "code",
   "execution_count": 13,
   "id": "4e6f9546-a38d-41d9-a44a-fd6fccc147eb",
   "metadata": {},
   "outputs": [
    {
     "data": {
      "text/html": [
       "<div>\n",
       "<style scoped>\n",
       "    .dataframe tbody tr th:only-of-type {\n",
       "        vertical-align: middle;\n",
       "    }\n",
       "\n",
       "    .dataframe tbody tr th {\n",
       "        vertical-align: top;\n",
       "    }\n",
       "\n",
       "    .dataframe thead th {\n",
       "        text-align: right;\n",
       "    }\n",
       "</style>\n",
       "<table border=\"1\" class=\"dataframe\">\n",
       "  <thead>\n",
       "    <tr style=\"text-align: right;\">\n",
       "      <th></th>\n",
       "      <th>2024-01-01</th>\n",
       "      <th>2024-01-02</th>\n",
       "      <th>2024-01-03</th>\n",
       "      <th>2024-01-04</th>\n",
       "      <th>2024-01-05</th>\n",
       "      <th>2024-01-06</th>\n",
       "    </tr>\n",
       "  </thead>\n",
       "  <tbody>\n",
       "    <tr>\n",
       "      <th>A</th>\n",
       "      <td>0.759040</td>\n",
       "      <td>-1.299071</td>\n",
       "      <td>-2.061060</td>\n",
       "      <td>-0.601836</td>\n",
       "      <td>-0.411210</td>\n",
       "      <td>-0.246921</td>\n",
       "    </tr>\n",
       "    <tr>\n",
       "      <th>B</th>\n",
       "      <td>-0.834354</td>\n",
       "      <td>1.759429</td>\n",
       "      <td>-1.084371</td>\n",
       "      <td>-0.442779</td>\n",
       "      <td>-1.403413</td>\n",
       "      <td>1.074901</td>\n",
       "    </tr>\n",
       "    <tr>\n",
       "      <th>C</th>\n",
       "      <td>0.444715</td>\n",
       "      <td>1.993400</td>\n",
       "      <td>2.016134</td>\n",
       "      <td>-0.481264</td>\n",
       "      <td>-0.083258</td>\n",
       "      <td>0.438909</td>\n",
       "    </tr>\n",
       "    <tr>\n",
       "      <th>D</th>\n",
       "      <td>0.634345</td>\n",
       "      <td>-0.692261</td>\n",
       "      <td>0.946107</td>\n",
       "      <td>-1.032713</td>\n",
       "      <td>-0.025262</td>\n",
       "      <td>0.100279</td>\n",
       "    </tr>\n",
       "  </tbody>\n",
       "</table>\n",
       "</div>"
      ],
      "text/plain": [
       "   2024-01-01  2024-01-02  2024-01-03  2024-01-04  2024-01-05  2024-01-06\n",
       "A    0.759040   -1.299071   -2.061060   -0.601836   -0.411210   -0.246921\n",
       "B   -0.834354    1.759429   -1.084371   -0.442779   -1.403413    1.074901\n",
       "C    0.444715    1.993400    2.016134   -0.481264   -0.083258    0.438909\n",
       "D    0.634345   -0.692261    0.946107   -1.032713   -0.025262    0.100279"
      ]
     },
     "execution_count": 13,
     "metadata": {},
     "output_type": "execute_result"
    }
   ],
   "source": [
    "#DataFrame.T realiza a transposição da matriz de dados, as colunas viram linhas e vice versa\n",
    "df.T"
   ]
  },
  {
   "cell_type": "code",
   "execution_count": 14,
   "id": "dff3deaf-9920-44ea-bdb3-613e88efb7cd",
   "metadata": {},
   "outputs": [
    {
     "data": {
      "text/html": [
       "<div>\n",
       "<style scoped>\n",
       "    .dataframe tbody tr th:only-of-type {\n",
       "        vertical-align: middle;\n",
       "    }\n",
       "\n",
       "    .dataframe tbody tr th {\n",
       "        vertical-align: top;\n",
       "    }\n",
       "\n",
       "    .dataframe thead th {\n",
       "        text-align: right;\n",
       "    }\n",
       "</style>\n",
       "<table border=\"1\" class=\"dataframe\">\n",
       "  <thead>\n",
       "    <tr style=\"text-align: right;\">\n",
       "      <th></th>\n",
       "      <th>D</th>\n",
       "      <th>C</th>\n",
       "      <th>B</th>\n",
       "      <th>A</th>\n",
       "    </tr>\n",
       "  </thead>\n",
       "  <tbody>\n",
       "    <tr>\n",
       "      <th>2024-01-01</th>\n",
       "      <td>0.634345</td>\n",
       "      <td>0.444715</td>\n",
       "      <td>-0.834354</td>\n",
       "      <td>0.759040</td>\n",
       "    </tr>\n",
       "    <tr>\n",
       "      <th>2024-01-02</th>\n",
       "      <td>-0.692261</td>\n",
       "      <td>1.993400</td>\n",
       "      <td>1.759429</td>\n",
       "      <td>-1.299071</td>\n",
       "    </tr>\n",
       "    <tr>\n",
       "      <th>2024-01-03</th>\n",
       "      <td>0.946107</td>\n",
       "      <td>2.016134</td>\n",
       "      <td>-1.084371</td>\n",
       "      <td>-2.061060</td>\n",
       "    </tr>\n",
       "    <tr>\n",
       "      <th>2024-01-04</th>\n",
       "      <td>-1.032713</td>\n",
       "      <td>-0.481264</td>\n",
       "      <td>-0.442779</td>\n",
       "      <td>-0.601836</td>\n",
       "    </tr>\n",
       "    <tr>\n",
       "      <th>2024-01-05</th>\n",
       "      <td>-0.025262</td>\n",
       "      <td>-0.083258</td>\n",
       "      <td>-1.403413</td>\n",
       "      <td>-0.411210</td>\n",
       "    </tr>\n",
       "    <tr>\n",
       "      <th>2024-01-06</th>\n",
       "      <td>0.100279</td>\n",
       "      <td>0.438909</td>\n",
       "      <td>1.074901</td>\n",
       "      <td>-0.246921</td>\n",
       "    </tr>\n",
       "  </tbody>\n",
       "</table>\n",
       "</div>"
      ],
      "text/plain": [
       "                   D         C         B         A\n",
       "2024-01-01  0.634345  0.444715 -0.834354  0.759040\n",
       "2024-01-02 -0.692261  1.993400  1.759429 -1.299071\n",
       "2024-01-03  0.946107  2.016134 -1.084371 -2.061060\n",
       "2024-01-04 -1.032713 -0.481264 -0.442779 -0.601836\n",
       "2024-01-05 -0.025262 -0.083258 -1.403413 -0.411210\n",
       "2024-01-06  0.100279  0.438909  1.074901 -0.246921"
      ]
     },
     "execution_count": 14,
     "metadata": {},
     "output_type": "execute_result"
    }
   ],
   "source": [
    "#DataFrame.sort_index() organiza pelo índice\n",
    "df.sort_index(axis=1,ascending=False)"
   ]
  },
  {
   "cell_type": "code",
   "execution_count": 15,
   "id": "e3762df2-50e7-4df3-8d68-8ffa406cd7f1",
   "metadata": {},
   "outputs": [
    {
     "data": {
      "text/html": [
       "<div>\n",
       "<style scoped>\n",
       "    .dataframe tbody tr th:only-of-type {\n",
       "        vertical-align: middle;\n",
       "    }\n",
       "\n",
       "    .dataframe tbody tr th {\n",
       "        vertical-align: top;\n",
       "    }\n",
       "\n",
       "    .dataframe thead th {\n",
       "        text-align: right;\n",
       "    }\n",
       "</style>\n",
       "<table border=\"1\" class=\"dataframe\">\n",
       "  <thead>\n",
       "    <tr style=\"text-align: right;\">\n",
       "      <th></th>\n",
       "      <th>A</th>\n",
       "      <th>B</th>\n",
       "      <th>C</th>\n",
       "      <th>D</th>\n",
       "    </tr>\n",
       "  </thead>\n",
       "  <tbody>\n",
       "    <tr>\n",
       "      <th>2024-01-05</th>\n",
       "      <td>-0.411210</td>\n",
       "      <td>-1.403413</td>\n",
       "      <td>-0.083258</td>\n",
       "      <td>-0.025262</td>\n",
       "    </tr>\n",
       "    <tr>\n",
       "      <th>2024-01-03</th>\n",
       "      <td>-2.061060</td>\n",
       "      <td>-1.084371</td>\n",
       "      <td>2.016134</td>\n",
       "      <td>0.946107</td>\n",
       "    </tr>\n",
       "    <tr>\n",
       "      <th>2024-01-01</th>\n",
       "      <td>0.759040</td>\n",
       "      <td>-0.834354</td>\n",
       "      <td>0.444715</td>\n",
       "      <td>0.634345</td>\n",
       "    </tr>\n",
       "    <tr>\n",
       "      <th>2024-01-04</th>\n",
       "      <td>-0.601836</td>\n",
       "      <td>-0.442779</td>\n",
       "      <td>-0.481264</td>\n",
       "      <td>-1.032713</td>\n",
       "    </tr>\n",
       "    <tr>\n",
       "      <th>2024-01-06</th>\n",
       "      <td>-0.246921</td>\n",
       "      <td>1.074901</td>\n",
       "      <td>0.438909</td>\n",
       "      <td>0.100279</td>\n",
       "    </tr>\n",
       "    <tr>\n",
       "      <th>2024-01-02</th>\n",
       "      <td>-1.299071</td>\n",
       "      <td>1.759429</td>\n",
       "      <td>1.993400</td>\n",
       "      <td>-0.692261</td>\n",
       "    </tr>\n",
       "  </tbody>\n",
       "</table>\n",
       "</div>"
      ],
      "text/plain": [
       "                   A         B         C         D\n",
       "2024-01-05 -0.411210 -1.403413 -0.083258 -0.025262\n",
       "2024-01-03 -2.061060 -1.084371  2.016134  0.946107\n",
       "2024-01-01  0.759040 -0.834354  0.444715  0.634345\n",
       "2024-01-04 -0.601836 -0.442779 -0.481264 -1.032713\n",
       "2024-01-06 -0.246921  1.074901  0.438909  0.100279\n",
       "2024-01-02 -1.299071  1.759429  1.993400 -0.692261"
      ]
     },
     "execution_count": 15,
     "metadata": {},
     "output_type": "execute_result"
    }
   ],
   "source": [
    "#organiza a tabela por um valor específico\n",
    "df.sort_values(by=\"B\")"
   ]
  },
  {
   "cell_type": "code",
   "execution_count": 16,
   "id": "a84a36ea-51cb-46a9-9808-d9de9c19a44e",
   "metadata": {},
   "outputs": [
    {
     "data": {
      "text/html": [
       "<div>\n",
       "<style scoped>\n",
       "    .dataframe tbody tr th:only-of-type {\n",
       "        vertical-align: middle;\n",
       "    }\n",
       "\n",
       "    .dataframe tbody tr th {\n",
       "        vertical-align: top;\n",
       "    }\n",
       "\n",
       "    .dataframe thead th {\n",
       "        text-align: right;\n",
       "    }\n",
       "</style>\n",
       "<table border=\"1\" class=\"dataframe\">\n",
       "  <thead>\n",
       "    <tr style=\"text-align: right;\">\n",
       "      <th></th>\n",
       "      <th>A</th>\n",
       "      <th>B</th>\n",
       "      <th>C</th>\n",
       "      <th>D</th>\n",
       "    </tr>\n",
       "  </thead>\n",
       "  <tbody>\n",
       "    <tr>\n",
       "      <th>2024-01-01</th>\n",
       "      <td>0.759040</td>\n",
       "      <td>-0.834354</td>\n",
       "      <td>0.444715</td>\n",
       "      <td>0.634345</td>\n",
       "    </tr>\n",
       "    <tr>\n",
       "      <th>2024-01-02</th>\n",
       "      <td>-1.299071</td>\n",
       "      <td>1.759429</td>\n",
       "      <td>1.993400</td>\n",
       "      <td>-0.692261</td>\n",
       "    </tr>\n",
       "    <tr>\n",
       "      <th>2024-01-03</th>\n",
       "      <td>-2.061060</td>\n",
       "      <td>-1.084371</td>\n",
       "      <td>2.016134</td>\n",
       "      <td>0.946107</td>\n",
       "    </tr>\n",
       "    <tr>\n",
       "      <th>2024-01-04</th>\n",
       "      <td>-0.601836</td>\n",
       "      <td>-0.442779</td>\n",
       "      <td>-0.481264</td>\n",
       "      <td>-1.032713</td>\n",
       "    </tr>\n",
       "    <tr>\n",
       "      <th>2024-01-05</th>\n",
       "      <td>-0.411210</td>\n",
       "      <td>-1.403413</td>\n",
       "      <td>-0.083258</td>\n",
       "      <td>-0.025262</td>\n",
       "    </tr>\n",
       "    <tr>\n",
       "      <th>2024-01-06</th>\n",
       "      <td>-0.246921</td>\n",
       "      <td>1.074901</td>\n",
       "      <td>0.438909</td>\n",
       "      <td>0.100279</td>\n",
       "    </tr>\n",
       "  </tbody>\n",
       "</table>\n",
       "</div>"
      ],
      "text/plain": [
       "                   A         B         C         D\n",
       "2024-01-01  0.759040 -0.834354  0.444715  0.634345\n",
       "2024-01-02 -1.299071  1.759429  1.993400 -0.692261\n",
       "2024-01-03 -2.061060 -1.084371  2.016134  0.946107\n",
       "2024-01-04 -0.601836 -0.442779 -0.481264 -1.032713\n",
       "2024-01-05 -0.411210 -1.403413 -0.083258 -0.025262\n",
       "2024-01-06 -0.246921  1.074901  0.438909  0.100279"
      ]
     },
     "execution_count": 16,
     "metadata": {},
     "output_type": "execute_result"
    }
   ],
   "source": [
    "df"
   ]
  },
  {
   "cell_type": "code",
   "execution_count": 17,
   "id": "ed363a9a-760c-4a52-87c1-dbb5952f81bc",
   "metadata": {},
   "outputs": [
    {
     "data": {
      "text/plain": [
       "2024-01-01   -0.834354\n",
       "2024-01-02    1.759429\n",
       "2024-01-03   -1.084371\n",
       "2024-01-04   -0.442779\n",
       "2024-01-05   -1.403413\n",
       "2024-01-06    1.074901\n",
       "Freq: D, Name: B, dtype: float64"
      ]
     },
     "execution_count": 17,
     "metadata": {},
     "output_type": "execute_result"
    }
   ],
   "source": [
    "#seleção\n",
    "#Getitem([]) seleciona apenas a coluna correspondente equivalente a df\n",
    "df[\"B\"]"
   ]
  },
  {
   "cell_type": "code",
   "execution_count": 18,
   "id": "f3f5fd4e-0b19-47df-bf52-f409df77d1dd",
   "metadata": {},
   "outputs": [
    {
     "data": {
      "text/html": [
       "<div>\n",
       "<style scoped>\n",
       "    .dataframe tbody tr th:only-of-type {\n",
       "        vertical-align: middle;\n",
       "    }\n",
       "\n",
       "    .dataframe tbody tr th {\n",
       "        vertical-align: top;\n",
       "    }\n",
       "\n",
       "    .dataframe thead th {\n",
       "        text-align: right;\n",
       "    }\n",
       "</style>\n",
       "<table border=\"1\" class=\"dataframe\">\n",
       "  <thead>\n",
       "    <tr style=\"text-align: right;\">\n",
       "      <th></th>\n",
       "      <th>A</th>\n",
       "      <th>B</th>\n",
       "      <th>C</th>\n",
       "      <th>D</th>\n",
       "    </tr>\n",
       "  </thead>\n",
       "  <tbody>\n",
       "    <tr>\n",
       "      <th>2024-01-01</th>\n",
       "      <td>0.759040</td>\n",
       "      <td>-0.834354</td>\n",
       "      <td>0.444715</td>\n",
       "      <td>0.634345</td>\n",
       "    </tr>\n",
       "    <tr>\n",
       "      <th>2024-01-02</th>\n",
       "      <td>-1.299071</td>\n",
       "      <td>1.759429</td>\n",
       "      <td>1.993400</td>\n",
       "      <td>-0.692261</td>\n",
       "    </tr>\n",
       "    <tr>\n",
       "      <th>2024-01-03</th>\n",
       "      <td>-2.061060</td>\n",
       "      <td>-1.084371</td>\n",
       "      <td>2.016134</td>\n",
       "      <td>0.946107</td>\n",
       "    </tr>\n",
       "  </tbody>\n",
       "</table>\n",
       "</div>"
      ],
      "text/plain": [
       "                   A         B         C         D\n",
       "2024-01-01  0.759040 -0.834354  0.444715  0.634345\n",
       "2024-01-02 -1.299071  1.759429  1.993400 -0.692261\n",
       "2024-01-03 -2.061060 -1.084371  2.016134  0.946107"
      ]
     },
     "execution_count": 18,
     "metadata": {},
     "output_type": "execute_result"
    }
   ],
   "source": [
    "#seleciona um intervalo de linhas\n",
    "df[0:3]"
   ]
  },
  {
   "cell_type": "code",
   "execution_count": 19,
   "id": "c0063c12-3124-40ce-a1c8-58ca63ed109a",
   "metadata": {},
   "outputs": [
    {
     "data": {
      "text/html": [
       "<div>\n",
       "<style scoped>\n",
       "    .dataframe tbody tr th:only-of-type {\n",
       "        vertical-align: middle;\n",
       "    }\n",
       "\n",
       "    .dataframe tbody tr th {\n",
       "        vertical-align: top;\n",
       "    }\n",
       "\n",
       "    .dataframe thead th {\n",
       "        text-align: right;\n",
       "    }\n",
       "</style>\n",
       "<table border=\"1\" class=\"dataframe\">\n",
       "  <thead>\n",
       "    <tr style=\"text-align: right;\">\n",
       "      <th></th>\n",
       "      <th>A</th>\n",
       "      <th>B</th>\n",
       "      <th>C</th>\n",
       "      <th>D</th>\n",
       "    </tr>\n",
       "  </thead>\n",
       "  <tbody>\n",
       "    <tr>\n",
       "      <th>2024-01-01</th>\n",
       "      <td>0.759040</td>\n",
       "      <td>-0.834354</td>\n",
       "      <td>0.444715</td>\n",
       "      <td>0.634345</td>\n",
       "    </tr>\n",
       "    <tr>\n",
       "      <th>2024-01-02</th>\n",
       "      <td>-1.299071</td>\n",
       "      <td>1.759429</td>\n",
       "      <td>1.993400</td>\n",
       "      <td>-0.692261</td>\n",
       "    </tr>\n",
       "    <tr>\n",
       "      <th>2024-01-03</th>\n",
       "      <td>-2.061060</td>\n",
       "      <td>-1.084371</td>\n",
       "      <td>2.016134</td>\n",
       "      <td>0.946107</td>\n",
       "    </tr>\n",
       "  </tbody>\n",
       "</table>\n",
       "</div>"
      ],
      "text/plain": [
       "                   A         B         C         D\n",
       "2024-01-01  0.759040 -0.834354  0.444715  0.634345\n",
       "2024-01-02 -1.299071  1.759429  1.993400 -0.692261\n",
       "2024-01-03 -2.061060 -1.084371  2.016134  0.946107"
      ]
     },
     "execution_count": 19,
     "metadata": {},
     "output_type": "execute_result"
    }
   ],
   "source": [
    "df[\"20240101\":\"20240103\"]"
   ]
  },
  {
   "cell_type": "code",
   "execution_count": 20,
   "id": "ca21d6e3-a7fe-41fe-b674-2af4f0eabd11",
   "metadata": {},
   "outputs": [
    {
     "data": {
      "text/plain": [
       "A    0.759040\n",
       "B   -0.834354\n",
       "C    0.444715\n",
       "D    0.634345\n",
       "Name: 2024-01-01 00:00:00, dtype: float64"
      ]
     },
     "execution_count": 20,
     "metadata": {},
     "output_type": "execute_result"
    }
   ],
   "source": [
    "#seleção por label \n",
    "#DataFrame.loc(linhas, colunas)\n",
    "df.loc[dates[0]]"
   ]
  },
  {
   "cell_type": "code",
   "execution_count": 21,
   "id": "2fca17d8-e69d-4fb7-b683-f79c97f47711",
   "metadata": {},
   "outputs": [
    {
     "data": {
      "text/html": [
       "<div>\n",
       "<style scoped>\n",
       "    .dataframe tbody tr th:only-of-type {\n",
       "        vertical-align: middle;\n",
       "    }\n",
       "\n",
       "    .dataframe tbody tr th {\n",
       "        vertical-align: top;\n",
       "    }\n",
       "\n",
       "    .dataframe thead th {\n",
       "        text-align: right;\n",
       "    }\n",
       "</style>\n",
       "<table border=\"1\" class=\"dataframe\">\n",
       "  <thead>\n",
       "    <tr style=\"text-align: right;\">\n",
       "      <th></th>\n",
       "      <th>A</th>\n",
       "      <th>B</th>\n",
       "    </tr>\n",
       "  </thead>\n",
       "  <tbody>\n",
       "    <tr>\n",
       "      <th>2024-01-01</th>\n",
       "      <td>0.759040</td>\n",
       "      <td>-0.834354</td>\n",
       "    </tr>\n",
       "    <tr>\n",
       "      <th>2024-01-02</th>\n",
       "      <td>-1.299071</td>\n",
       "      <td>1.759429</td>\n",
       "    </tr>\n",
       "    <tr>\n",
       "      <th>2024-01-03</th>\n",
       "      <td>-2.061060</td>\n",
       "      <td>-1.084371</td>\n",
       "    </tr>\n",
       "    <tr>\n",
       "      <th>2024-01-04</th>\n",
       "      <td>-0.601836</td>\n",
       "      <td>-0.442779</td>\n",
       "    </tr>\n",
       "    <tr>\n",
       "      <th>2024-01-05</th>\n",
       "      <td>-0.411210</td>\n",
       "      <td>-1.403413</td>\n",
       "    </tr>\n",
       "    <tr>\n",
       "      <th>2024-01-06</th>\n",
       "      <td>-0.246921</td>\n",
       "      <td>1.074901</td>\n",
       "    </tr>\n",
       "  </tbody>\n",
       "</table>\n",
       "</div>"
      ],
      "text/plain": [
       "                   A         B\n",
       "2024-01-01  0.759040 -0.834354\n",
       "2024-01-02 -1.299071  1.759429\n",
       "2024-01-03 -2.061060 -1.084371\n",
       "2024-01-04 -0.601836 -0.442779\n",
       "2024-01-05 -0.411210 -1.403413\n",
       "2024-01-06 -0.246921  1.074901"
      ]
     },
     "execution_count": 21,
     "metadata": {},
     "output_type": "execute_result"
    }
   ],
   "source": [
    "df.loc[:,[\"A\",\"B\"]]"
   ]
  },
  {
   "cell_type": "code",
   "execution_count": 22,
   "id": "a11a954f-12f5-47ad-94ee-17b835bd0e69",
   "metadata": {},
   "outputs": [
    {
     "data": {
      "text/plain": [
       "A   -0.601836\n",
       "B   -0.442779\n",
       "C   -0.481264\n",
       "D   -1.032713\n",
       "Name: 2024-01-04 00:00:00, dtype: float64"
      ]
     },
     "execution_count": 22,
     "metadata": {},
     "output_type": "execute_result"
    }
   ],
   "source": [
    "df.iloc[3]"
   ]
  },
  {
   "cell_type": "code",
   "execution_count": 23,
   "id": "0f1ef6a1-ffdb-4203-b2ec-85fd9ca4a3ba",
   "metadata": {},
   "outputs": [
    {
     "data": {
      "text/html": [
       "<div>\n",
       "<style scoped>\n",
       "    .dataframe tbody tr th:only-of-type {\n",
       "        vertical-align: middle;\n",
       "    }\n",
       "\n",
       "    .dataframe tbody tr th {\n",
       "        vertical-align: top;\n",
       "    }\n",
       "\n",
       "    .dataframe thead th {\n",
       "        text-align: right;\n",
       "    }\n",
       "</style>\n",
       "<table border=\"1\" class=\"dataframe\">\n",
       "  <thead>\n",
       "    <tr style=\"text-align: right;\">\n",
       "      <th></th>\n",
       "      <th>A</th>\n",
       "      <th>B</th>\n",
       "      <th>C</th>\n",
       "      <th>D</th>\n",
       "    </tr>\n",
       "  </thead>\n",
       "  <tbody>\n",
       "    <tr>\n",
       "      <th>2024-01-04</th>\n",
       "      <td>-0.601836</td>\n",
       "      <td>-0.442779</td>\n",
       "      <td>-0.481264</td>\n",
       "      <td>-1.032713</td>\n",
       "    </tr>\n",
       "    <tr>\n",
       "      <th>2024-01-05</th>\n",
       "      <td>-0.411210</td>\n",
       "      <td>-1.403413</td>\n",
       "      <td>-0.083258</td>\n",
       "      <td>-0.025262</td>\n",
       "    </tr>\n",
       "  </tbody>\n",
       "</table>\n",
       "</div>"
      ],
      "text/plain": [
       "                   A         B         C         D\n",
       "2024-01-04 -0.601836 -0.442779 -0.481264 -1.032713\n",
       "2024-01-05 -0.411210 -1.403413 -0.083258 -0.025262"
      ]
     },
     "execution_count": 23,
     "metadata": {},
     "output_type": "execute_result"
    }
   ],
   "source": [
    "df.iloc[3:5]"
   ]
  },
  {
   "cell_type": "code",
   "execution_count": 24,
   "id": "1be00982-bfd7-4cb0-b96c-6942debdf39f",
   "metadata": {},
   "outputs": [
    {
     "data": {
      "text/plain": [
       "A   -3.603653\n",
       "B   -0.868547\n",
       "C    4.040060\n",
       "D   -0.064871\n",
       "dtype: float64"
      ]
     },
     "execution_count": 24,
     "metadata": {},
     "output_type": "execute_result"
    }
   ],
   "source": [
    "#usando funções definidas\n",
    "#DataFrame.agg()\n",
    "df.agg(lambda x: np.mean(x) * 5.6)"
   ]
  },
  {
   "cell_type": "code",
   "execution_count": 25,
   "id": "7f8cf7d5-daf3-4f6a-99c1-60967e69177a",
   "metadata": {},
   "outputs": [
    {
     "data": {
      "text/html": [
       "<div>\n",
       "<style scoped>\n",
       "    .dataframe tbody tr th:only-of-type {\n",
       "        vertical-align: middle;\n",
       "    }\n",
       "\n",
       "    .dataframe tbody tr th {\n",
       "        vertical-align: top;\n",
       "    }\n",
       "\n",
       "    .dataframe thead th {\n",
       "        text-align: right;\n",
       "    }\n",
       "</style>\n",
       "<table border=\"1\" class=\"dataframe\">\n",
       "  <thead>\n",
       "    <tr style=\"text-align: right;\">\n",
       "      <th></th>\n",
       "      <th>A</th>\n",
       "      <th>B</th>\n",
       "      <th>C</th>\n",
       "      <th>D</th>\n",
       "    </tr>\n",
       "  </thead>\n",
       "  <tbody>\n",
       "    <tr>\n",
       "      <th>2024-01-01</th>\n",
       "      <td>76.814886</td>\n",
       "      <td>-84.436607</td>\n",
       "      <td>45.005206</td>\n",
       "      <td>64.195751</td>\n",
       "    </tr>\n",
       "    <tr>\n",
       "      <th>2024-01-02</th>\n",
       "      <td>-131.465939</td>\n",
       "      <td>178.054261</td>\n",
       "      <td>201.732111</td>\n",
       "      <td>-70.056795</td>\n",
       "    </tr>\n",
       "    <tr>\n",
       "      <th>2024-01-03</th>\n",
       "      <td>-208.579277</td>\n",
       "      <td>-109.738335</td>\n",
       "      <td>204.032809</td>\n",
       "      <td>95.746008</td>\n",
       "    </tr>\n",
       "    <tr>\n",
       "      <th>2024-01-04</th>\n",
       "      <td>-60.905798</td>\n",
       "      <td>-44.809243</td>\n",
       "      <td>-48.703959</td>\n",
       "      <td>-104.510539</td>\n",
       "    </tr>\n",
       "    <tr>\n",
       "      <th>2024-01-05</th>\n",
       "      <td>-41.614423</td>\n",
       "      <td>-142.025358</td>\n",
       "      <td>-8.425742</td>\n",
       "      <td>-2.556494</td>\n",
       "    </tr>\n",
       "    <tr>\n",
       "      <th>2024-01-06</th>\n",
       "      <td>-24.988361</td>\n",
       "      <td>108.780015</td>\n",
       "      <td>44.417542</td>\n",
       "      <td>10.148210</td>\n",
       "    </tr>\n",
       "  </tbody>\n",
       "</table>\n",
       "</div>"
      ],
      "text/plain": [
       "                     A           B           C           D\n",
       "2024-01-01   76.814886  -84.436607   45.005206   64.195751\n",
       "2024-01-02 -131.465939  178.054261  201.732111  -70.056795\n",
       "2024-01-03 -208.579277 -109.738335  204.032809   95.746008\n",
       "2024-01-04  -60.905798  -44.809243  -48.703959 -104.510539\n",
       "2024-01-05  -41.614423 -142.025358   -8.425742   -2.556494\n",
       "2024-01-06  -24.988361  108.780015   44.417542   10.148210"
      ]
     },
     "execution_count": 25,
     "metadata": {},
     "output_type": "execute_result"
    }
   ],
   "source": [
    "df.transform(lambda x: x * 101.2)"
   ]
  },
  {
   "cell_type": "code",
   "execution_count": 26,
   "id": "0b4b43a9-f385-40e5-8af3-414a2ad233e7",
   "metadata": {},
   "outputs": [
    {
     "data": {
      "text/plain": [
       "0    6\n",
       "1    5\n",
       "2    0\n",
       "3    6\n",
       "4    5\n",
       "5    3\n",
       "6    5\n",
       "7    4\n",
       "8    2\n",
       "9    4\n",
       "dtype: int32"
      ]
     },
     "execution_count": 26,
     "metadata": {},
     "output_type": "execute_result"
    }
   ],
   "source": [
    "#gerando uma lista de valores com np.random.randint entre 0 e 7 com valor 10 de tamanho\n",
    "s = pd.Series(np.random.randint(0,7,size=10))\n",
    "s"
   ]
  },
  {
   "cell_type": "code",
   "execution_count": 27,
   "id": "5a03aca0-7448-4a8a-bce9-2b8adb985700",
   "metadata": {},
   "outputs": [
    {
     "data": {
      "text/plain": [
       "5    3\n",
       "6    2\n",
       "4    2\n",
       "0    1\n",
       "3    1\n",
       "2    1\n",
       "Name: count, dtype: int64"
      ]
     },
     "execution_count": 27,
     "metadata": {},
     "output_type": "execute_result"
    }
   ],
   "source": [
    "s.value_counts()\n",
    "#DataFrame.value_counts() conta quantos valores existem de cada item do índice e organiza da seguinte maneira, 'nome':'quantidade'"
   ]
  },
  {
   "cell_type": "code",
   "execution_count": 28,
   "id": "477f6548-0e26-40e4-97e1-44f137d5eff1",
   "metadata": {},
   "outputs": [],
   "source": [
    "#configurando uma nova coluna automaticamente alinhando pelo índice\n",
    "s1 = pd.Series([1,2,3,4,5,6],index=pd.date_range(\"20230201\",periods=6))"
   ]
  },
  {
   "cell_type": "code",
   "execution_count": 29,
   "id": "987d2838-1353-40d7-81ef-b26a5089e0cf",
   "metadata": {},
   "outputs": [
    {
     "data": {
      "text/html": [
       "<div>\n",
       "<style scoped>\n",
       "    .dataframe tbody tr th:only-of-type {\n",
       "        vertical-align: middle;\n",
       "    }\n",
       "\n",
       "    .dataframe tbody tr th {\n",
       "        vertical-align: top;\n",
       "    }\n",
       "\n",
       "    .dataframe thead th {\n",
       "        text-align: right;\n",
       "    }\n",
       "</style>\n",
       "<table border=\"1\" class=\"dataframe\">\n",
       "  <thead>\n",
       "    <tr style=\"text-align: right;\">\n",
       "      <th></th>\n",
       "      <th>A</th>\n",
       "      <th>B</th>\n",
       "      <th>C</th>\n",
       "      <th>D</th>\n",
       "      <th>F</th>\n",
       "    </tr>\n",
       "  </thead>\n",
       "  <tbody>\n",
       "    <tr>\n",
       "      <th>2024-01-01</th>\n",
       "      <td>4.000000</td>\n",
       "      <td>0.000000</td>\n",
       "      <td>0.444715</td>\n",
       "      <td>5.0</td>\n",
       "      <td>NaN</td>\n",
       "    </tr>\n",
       "    <tr>\n",
       "      <th>2024-01-02</th>\n",
       "      <td>-1.299071</td>\n",
       "      <td>1.759429</td>\n",
       "      <td>1.993400</td>\n",
       "      <td>5.0</td>\n",
       "      <td>NaN</td>\n",
       "    </tr>\n",
       "    <tr>\n",
       "      <th>2024-01-03</th>\n",
       "      <td>-2.061060</td>\n",
       "      <td>-1.084371</td>\n",
       "      <td>2.016134</td>\n",
       "      <td>5.0</td>\n",
       "      <td>NaN</td>\n",
       "    </tr>\n",
       "    <tr>\n",
       "      <th>2024-01-04</th>\n",
       "      <td>-0.601836</td>\n",
       "      <td>-0.442779</td>\n",
       "      <td>-0.481264</td>\n",
       "      <td>5.0</td>\n",
       "      <td>NaN</td>\n",
       "    </tr>\n",
       "    <tr>\n",
       "      <th>2024-01-05</th>\n",
       "      <td>-0.411210</td>\n",
       "      <td>-1.403413</td>\n",
       "      <td>-0.083258</td>\n",
       "      <td>5.0</td>\n",
       "      <td>NaN</td>\n",
       "    </tr>\n",
       "    <tr>\n",
       "      <th>2024-01-06</th>\n",
       "      <td>-0.246921</td>\n",
       "      <td>1.074901</td>\n",
       "      <td>0.438909</td>\n",
       "      <td>5.0</td>\n",
       "      <td>NaN</td>\n",
       "    </tr>\n",
       "  </tbody>\n",
       "</table>\n",
       "</div>"
      ],
      "text/plain": [
       "                   A         B         C    D   F\n",
       "2024-01-01  4.000000  0.000000  0.444715  5.0 NaN\n",
       "2024-01-02 -1.299071  1.759429  1.993400  5.0 NaN\n",
       "2024-01-03 -2.061060 -1.084371  2.016134  5.0 NaN\n",
       "2024-01-04 -0.601836 -0.442779 -0.481264  5.0 NaN\n",
       "2024-01-05 -0.411210 -1.403413 -0.083258  5.0 NaN\n",
       "2024-01-06 -0.246921  1.074901  0.438909  5.0 NaN"
      ]
     },
     "execution_count": 29,
     "metadata": {},
     "output_type": "execute_result"
    }
   ],
   "source": [
    "df[\"F\"] = s1\n",
    "#adicionando um valor em uma linha e coluna específica de uma serie ou lista\n",
    "df.at[dates[0],\"A\"] = 4\n",
    "#adicionando um valor\n",
    "df.iat[0,1] = 0\n",
    "#adicionando um NumPy Array\n",
    "df.loc[:, \"D\"] = np.array([5] * len(df))\n",
    "\n",
    "df\n",
    "#obs: alterações são \"permanentes\" na execução do código até o kernel ser reiniciado"
   ]
  },
  {
   "cell_type": "code",
   "execution_count": 30,
   "id": "a2a29d0d-b71e-4327-991b-cd9006c38e8f",
   "metadata": {},
   "outputs": [
    {
     "data": {
      "text/html": [
       "<div>\n",
       "<style scoped>\n",
       "    .dataframe tbody tr th:only-of-type {\n",
       "        vertical-align: middle;\n",
       "    }\n",
       "\n",
       "    .dataframe tbody tr th {\n",
       "        vertical-align: top;\n",
       "    }\n",
       "\n",
       "    .dataframe thead th {\n",
       "        text-align: right;\n",
       "    }\n",
       "</style>\n",
       "<table border=\"1\" class=\"dataframe\">\n",
       "  <thead>\n",
       "    <tr style=\"text-align: right;\">\n",
       "      <th></th>\n",
       "      <th>A</th>\n",
       "      <th>B</th>\n",
       "      <th>C</th>\n",
       "      <th>D</th>\n",
       "      <th>F</th>\n",
       "    </tr>\n",
       "  </thead>\n",
       "  <tbody>\n",
       "    <tr>\n",
       "      <th>2024-01-01</th>\n",
       "      <td>-4.000000</td>\n",
       "      <td>0.000000</td>\n",
       "      <td>-0.444715</td>\n",
       "      <td>-5.0</td>\n",
       "      <td>NaN</td>\n",
       "    </tr>\n",
       "    <tr>\n",
       "      <th>2024-01-02</th>\n",
       "      <td>-1.299071</td>\n",
       "      <td>-1.759429</td>\n",
       "      <td>-1.993400</td>\n",
       "      <td>-5.0</td>\n",
       "      <td>NaN</td>\n",
       "    </tr>\n",
       "    <tr>\n",
       "      <th>2024-01-03</th>\n",
       "      <td>-2.061060</td>\n",
       "      <td>-1.084371</td>\n",
       "      <td>-2.016134</td>\n",
       "      <td>-5.0</td>\n",
       "      <td>NaN</td>\n",
       "    </tr>\n",
       "    <tr>\n",
       "      <th>2024-01-04</th>\n",
       "      <td>-0.601836</td>\n",
       "      <td>-0.442779</td>\n",
       "      <td>-0.481264</td>\n",
       "      <td>-5.0</td>\n",
       "      <td>NaN</td>\n",
       "    </tr>\n",
       "    <tr>\n",
       "      <th>2024-01-05</th>\n",
       "      <td>-0.411210</td>\n",
       "      <td>-1.403413</td>\n",
       "      <td>-0.083258</td>\n",
       "      <td>-5.0</td>\n",
       "      <td>NaN</td>\n",
       "    </tr>\n",
       "    <tr>\n",
       "      <th>2024-01-06</th>\n",
       "      <td>-0.246921</td>\n",
       "      <td>-1.074901</td>\n",
       "      <td>-0.438909</td>\n",
       "      <td>-5.0</td>\n",
       "      <td>NaN</td>\n",
       "    </tr>\n",
       "  </tbody>\n",
       "</table>\n",
       "</div>"
      ],
      "text/plain": [
       "                   A         B         C    D   F\n",
       "2024-01-01 -4.000000  0.000000 -0.444715 -5.0 NaN\n",
       "2024-01-02 -1.299071 -1.759429 -1.993400 -5.0 NaN\n",
       "2024-01-03 -2.061060 -1.084371 -2.016134 -5.0 NaN\n",
       "2024-01-04 -0.601836 -0.442779 -0.481264 -5.0 NaN\n",
       "2024-01-05 -0.411210 -1.403413 -0.083258 -5.0 NaN\n",
       "2024-01-06 -0.246921 -1.074901 -0.438909 -5.0 NaN"
      ]
     },
     "execution_count": 30,
     "metadata": {},
     "output_type": "execute_result"
    }
   ],
   "source": [
    "df2 = df.copy()\n",
    "df2[df2 > 0] = -df2\n",
    "df2"
   ]
  },
  {
   "cell_type": "code",
   "execution_count": 31,
   "id": "b418ff61-06e1-4392-acfd-98117b2e2b39",
   "metadata": {},
   "outputs": [
    {
     "data": {
      "text/html": [
       "<div>\n",
       "<style scoped>\n",
       "    .dataframe tbody tr th:only-of-type {\n",
       "        vertical-align: middle;\n",
       "    }\n",
       "\n",
       "    .dataframe tbody tr th {\n",
       "        vertical-align: top;\n",
       "    }\n",
       "\n",
       "    .dataframe thead th {\n",
       "        text-align: right;\n",
       "    }\n",
       "</style>\n",
       "<table border=\"1\" class=\"dataframe\">\n",
       "  <thead>\n",
       "    <tr style=\"text-align: right;\">\n",
       "      <th></th>\n",
       "      <th>A</th>\n",
       "      <th>B</th>\n",
       "      <th>C</th>\n",
       "      <th>D</th>\n",
       "      <th>F</th>\n",
       "      <th>E</th>\n",
       "    </tr>\n",
       "  </thead>\n",
       "  <tbody>\n",
       "    <tr>\n",
       "      <th>2024-01-01</th>\n",
       "      <td>4.000000</td>\n",
       "      <td>0.000000</td>\n",
       "      <td>0.444715</td>\n",
       "      <td>5.0</td>\n",
       "      <td>NaN</td>\n",
       "      <td>1.0</td>\n",
       "    </tr>\n",
       "    <tr>\n",
       "      <th>2024-01-02</th>\n",
       "      <td>-1.299071</td>\n",
       "      <td>1.759429</td>\n",
       "      <td>1.993400</td>\n",
       "      <td>5.0</td>\n",
       "      <td>NaN</td>\n",
       "      <td>1.0</td>\n",
       "    </tr>\n",
       "    <tr>\n",
       "      <th>2024-01-03</th>\n",
       "      <td>-2.061060</td>\n",
       "      <td>-1.084371</td>\n",
       "      <td>2.016134</td>\n",
       "      <td>5.0</td>\n",
       "      <td>NaN</td>\n",
       "      <td>NaN</td>\n",
       "    </tr>\n",
       "    <tr>\n",
       "      <th>2024-01-04</th>\n",
       "      <td>-0.601836</td>\n",
       "      <td>-0.442779</td>\n",
       "      <td>-0.481264</td>\n",
       "      <td>5.0</td>\n",
       "      <td>NaN</td>\n",
       "      <td>NaN</td>\n",
       "    </tr>\n",
       "  </tbody>\n",
       "</table>\n",
       "</div>"
      ],
      "text/plain": [
       "                   A         B         C    D   F    E\n",
       "2024-01-01  4.000000  0.000000  0.444715  5.0 NaN  1.0\n",
       "2024-01-02 -1.299071  1.759429  1.993400  5.0 NaN  1.0\n",
       "2024-01-03 -2.061060 -1.084371  2.016134  5.0 NaN  NaN\n",
       "2024-01-04 -0.601836 -0.442779 -0.481264  5.0 NaN  NaN"
      ]
     },
     "execution_count": 31,
     "metadata": {},
     "output_type": "execute_result"
    }
   ],
   "source": [
    "#tratamento de dados faltantes\n",
    "#em NumPy np.nan representa um dado faltando, e por padrão não é incluido nos calculos\n",
    "\n",
    "df1 = df.reindex(index=dates[0:4],columns=list(df.columns) + [\"E\"])\n",
    "df1.loc[dates[0] : dates[1],\"E\"] = 1\n",
    "df1"
   ]
  },
  {
   "cell_type": "raw",
   "id": "1f74a92a-7460-464e-b4b0-c7aa2a3b751e",
   "metadata": {},
   "source": [
    "#DataFrame.dropna(how='any') remove linhas que estão faltando\n",
    "df1.dropna(how=\"any\")\n",
    "df1"
   ]
  },
  {
   "cell_type": "code",
   "execution_count": 32,
   "id": "792d4ced-05c1-4994-b86a-347df2697082",
   "metadata": {},
   "outputs": [
    {
     "data": {
      "text/html": [
       "<div>\n",
       "<style scoped>\n",
       "    .dataframe tbody tr th:only-of-type {\n",
       "        vertical-align: middle;\n",
       "    }\n",
       "\n",
       "    .dataframe tbody tr th {\n",
       "        vertical-align: top;\n",
       "    }\n",
       "\n",
       "    .dataframe thead th {\n",
       "        text-align: right;\n",
       "    }\n",
       "</style>\n",
       "<table border=\"1\" class=\"dataframe\">\n",
       "  <thead>\n",
       "    <tr style=\"text-align: right;\">\n",
       "      <th></th>\n",
       "      <th>A</th>\n",
       "      <th>B</th>\n",
       "      <th>C</th>\n",
       "      <th>D</th>\n",
       "      <th>F</th>\n",
       "      <th>E</th>\n",
       "    </tr>\n",
       "  </thead>\n",
       "  <tbody>\n",
       "    <tr>\n",
       "      <th>2024-01-01</th>\n",
       "      <td>4.000000</td>\n",
       "      <td>0.000000</td>\n",
       "      <td>0.444715</td>\n",
       "      <td>5.0</td>\n",
       "      <td>5.0</td>\n",
       "      <td>1.0</td>\n",
       "    </tr>\n",
       "    <tr>\n",
       "      <th>2024-01-02</th>\n",
       "      <td>-1.299071</td>\n",
       "      <td>1.759429</td>\n",
       "      <td>1.993400</td>\n",
       "      <td>5.0</td>\n",
       "      <td>5.0</td>\n",
       "      <td>1.0</td>\n",
       "    </tr>\n",
       "    <tr>\n",
       "      <th>2024-01-03</th>\n",
       "      <td>-2.061060</td>\n",
       "      <td>-1.084371</td>\n",
       "      <td>2.016134</td>\n",
       "      <td>5.0</td>\n",
       "      <td>5.0</td>\n",
       "      <td>5.0</td>\n",
       "    </tr>\n",
       "    <tr>\n",
       "      <th>2024-01-04</th>\n",
       "      <td>-0.601836</td>\n",
       "      <td>-0.442779</td>\n",
       "      <td>-0.481264</td>\n",
       "      <td>5.0</td>\n",
       "      <td>5.0</td>\n",
       "      <td>5.0</td>\n",
       "    </tr>\n",
       "  </tbody>\n",
       "</table>\n",
       "</div>"
      ],
      "text/plain": [
       "                   A         B         C    D    F    E\n",
       "2024-01-01  4.000000  0.000000  0.444715  5.0  5.0  1.0\n",
       "2024-01-02 -1.299071  1.759429  1.993400  5.0  5.0  1.0\n",
       "2024-01-03 -2.061060 -1.084371  2.016134  5.0  5.0  5.0\n",
       "2024-01-04 -0.601836 -0.442779 -0.481264  5.0  5.0  5.0"
      ]
     },
     "execution_count": 32,
     "metadata": {},
     "output_type": "execute_result"
    }
   ],
   "source": [
    "#DataFrame.fillna(value=5)\n",
    "\n",
    "#pd.set_option('future.no_silent_downcasting', True)\n",
    "#o codigo acima evita que seja mostrado o codigo e deprecated em fillna()\n",
    "df1.fillna(value=5)"
   ]
  },
  {
   "cell_type": "code",
   "execution_count": 33,
   "id": "0c6c3998-9d03-4f7b-9325-6cf96a1d1eb6",
   "metadata": {},
   "outputs": [
    {
     "data": {
      "text/html": [
       "<div>\n",
       "<style scoped>\n",
       "    .dataframe tbody tr th:only-of-type {\n",
       "        vertical-align: middle;\n",
       "    }\n",
       "\n",
       "    .dataframe tbody tr th {\n",
       "        vertical-align: top;\n",
       "    }\n",
       "\n",
       "    .dataframe thead th {\n",
       "        text-align: right;\n",
       "    }\n",
       "</style>\n",
       "<table border=\"1\" class=\"dataframe\">\n",
       "  <thead>\n",
       "    <tr style=\"text-align: right;\">\n",
       "      <th></th>\n",
       "      <th>A</th>\n",
       "      <th>B</th>\n",
       "      <th>C</th>\n",
       "      <th>D</th>\n",
       "      <th>F</th>\n",
       "      <th>E</th>\n",
       "    </tr>\n",
       "  </thead>\n",
       "  <tbody>\n",
       "    <tr>\n",
       "      <th>2024-01-01</th>\n",
       "      <td>False</td>\n",
       "      <td>False</td>\n",
       "      <td>False</td>\n",
       "      <td>False</td>\n",
       "      <td>True</td>\n",
       "      <td>False</td>\n",
       "    </tr>\n",
       "    <tr>\n",
       "      <th>2024-01-02</th>\n",
       "      <td>False</td>\n",
       "      <td>False</td>\n",
       "      <td>False</td>\n",
       "      <td>False</td>\n",
       "      <td>True</td>\n",
       "      <td>False</td>\n",
       "    </tr>\n",
       "    <tr>\n",
       "      <th>2024-01-03</th>\n",
       "      <td>False</td>\n",
       "      <td>False</td>\n",
       "      <td>False</td>\n",
       "      <td>False</td>\n",
       "      <td>True</td>\n",
       "      <td>True</td>\n",
       "    </tr>\n",
       "    <tr>\n",
       "      <th>2024-01-04</th>\n",
       "      <td>False</td>\n",
       "      <td>False</td>\n",
       "      <td>False</td>\n",
       "      <td>False</td>\n",
       "      <td>True</td>\n",
       "      <td>True</td>\n",
       "    </tr>\n",
       "  </tbody>\n",
       "</table>\n",
       "</div>"
      ],
      "text/plain": [
       "                A      B      C      D     F      E\n",
       "2024-01-01  False  False  False  False  True  False\n",
       "2024-01-02  False  False  False  False  True  False\n",
       "2024-01-03  False  False  False  False  True   True\n",
       "2024-01-04  False  False  False  False  True   True"
      ]
     },
     "execution_count": 33,
     "metadata": {},
     "output_type": "execute_result"
    }
   ],
   "source": [
    "pd.isna(df1)"
   ]
  },
  {
   "cell_type": "code",
   "execution_count": 34,
   "id": "915bf020-81d8-4f63-b818-90736a5d2c2c",
   "metadata": {},
   "outputs": [
    {
     "data": {
      "text/plain": [
       "A   -0.103349\n",
       "B   -0.016039\n",
       "C    0.721439\n",
       "D    5.000000\n",
       "F         NaN\n",
       "dtype: float64"
      ]
     },
     "execution_count": 34,
     "metadata": {},
     "output_type": "execute_result"
    }
   ],
   "source": [
    "#operações \n",
    "#DataFrame.mean() exibe a média de cada coluna\n",
    "\n",
    "df.mean()"
   ]
  },
  {
   "cell_type": "code",
   "execution_count": 35,
   "id": "bad0952d-7e0d-4d94-81e5-771f92cf339a",
   "metadata": {},
   "outputs": [
    {
     "data": {
      "text/plain": [
       "2024-01-01    2.361179\n",
       "2024-01-02    1.863440\n",
       "2024-01-03    0.967676\n",
       "2024-01-04    0.868530\n",
       "2024-01-05    0.775530\n",
       "2024-01-06    1.566722\n",
       "Freq: D, dtype: float64"
      ]
     },
     "execution_count": 35,
     "metadata": {},
     "output_type": "execute_result"
    }
   ],
   "source": [
    "#calcula a media de cada linha\n",
    "df.mean(axis=1)"
   ]
  },
  {
   "cell_type": "code",
   "execution_count": 36,
   "id": "e5f26168-fd96-4698-a2b4-9836e0ef0abc",
   "metadata": {},
   "outputs": [
    {
     "data": {
      "text/plain": [
       "2024-01-01    NaN\n",
       "2024-01-02    NaN\n",
       "2024-01-03    1.0\n",
       "2024-01-04    3.0\n",
       "2024-01-05    5.0\n",
       "2024-01-06    NaN\n",
       "Freq: D, dtype: float64"
      ]
     },
     "execution_count": 36,
     "metadata": {},
     "output_type": "execute_result"
    }
   ],
   "source": [
    "s = pd.Series([1,3,5,np.nan,6,8],index=dates).shift(2)\n",
    "s"
   ]
  },
  {
   "cell_type": "code",
   "execution_count": 37,
   "id": "95010176-ea96-4cd1-a9ec-783299df1597",
   "metadata": {},
   "outputs": [
    {
     "data": {
      "text/html": [
       "<div>\n",
       "<style scoped>\n",
       "    .dataframe tbody tr th:only-of-type {\n",
       "        vertical-align: middle;\n",
       "    }\n",
       "\n",
       "    .dataframe tbody tr th {\n",
       "        vertical-align: top;\n",
       "    }\n",
       "\n",
       "    .dataframe thead th {\n",
       "        text-align: right;\n",
       "    }\n",
       "</style>\n",
       "<table border=\"1\" class=\"dataframe\">\n",
       "  <thead>\n",
       "    <tr style=\"text-align: right;\">\n",
       "      <th></th>\n",
       "      <th>A</th>\n",
       "      <th>B</th>\n",
       "      <th>C</th>\n",
       "      <th>D</th>\n",
       "      <th>F</th>\n",
       "    </tr>\n",
       "  </thead>\n",
       "  <tbody>\n",
       "    <tr>\n",
       "      <th>2024-01-01</th>\n",
       "      <td>NaN</td>\n",
       "      <td>NaN</td>\n",
       "      <td>NaN</td>\n",
       "      <td>NaN</td>\n",
       "      <td>NaN</td>\n",
       "    </tr>\n",
       "    <tr>\n",
       "      <th>2024-01-02</th>\n",
       "      <td>NaN</td>\n",
       "      <td>NaN</td>\n",
       "      <td>NaN</td>\n",
       "      <td>NaN</td>\n",
       "      <td>NaN</td>\n",
       "    </tr>\n",
       "    <tr>\n",
       "      <th>2024-01-03</th>\n",
       "      <td>-3.061060</td>\n",
       "      <td>-2.084371</td>\n",
       "      <td>1.016134</td>\n",
       "      <td>4.0</td>\n",
       "      <td>NaN</td>\n",
       "    </tr>\n",
       "    <tr>\n",
       "      <th>2024-01-04</th>\n",
       "      <td>-3.601836</td>\n",
       "      <td>-3.442779</td>\n",
       "      <td>-3.481264</td>\n",
       "      <td>2.0</td>\n",
       "      <td>NaN</td>\n",
       "    </tr>\n",
       "    <tr>\n",
       "      <th>2024-01-05</th>\n",
       "      <td>-5.411210</td>\n",
       "      <td>-6.403413</td>\n",
       "      <td>-5.083258</td>\n",
       "      <td>0.0</td>\n",
       "      <td>NaN</td>\n",
       "    </tr>\n",
       "    <tr>\n",
       "      <th>2024-01-06</th>\n",
       "      <td>NaN</td>\n",
       "      <td>NaN</td>\n",
       "      <td>NaN</td>\n",
       "      <td>NaN</td>\n",
       "      <td>NaN</td>\n",
       "    </tr>\n",
       "  </tbody>\n",
       "</table>\n",
       "</div>"
      ],
      "text/plain": [
       "                   A         B         C    D   F\n",
       "2024-01-01       NaN       NaN       NaN  NaN NaN\n",
       "2024-01-02       NaN       NaN       NaN  NaN NaN\n",
       "2024-01-03 -3.061060 -2.084371  1.016134  4.0 NaN\n",
       "2024-01-04 -3.601836 -3.442779 -3.481264  2.0 NaN\n",
       "2024-01-05 -5.411210 -6.403413 -5.083258  0.0 NaN\n",
       "2024-01-06       NaN       NaN       NaN  NaN NaN"
      ]
     },
     "execution_count": 37,
     "metadata": {},
     "output_type": "execute_result"
    }
   ],
   "source": [
    "df.sub(s,axis='index')"
   ]
  }
 ],
 "metadata": {
  "kernelspec": {
   "display_name": "Python 3 (ipykernel)",
   "language": "python",
   "name": "python3"
  },
  "language_info": {
   "codemirror_mode": {
    "name": "ipython",
    "version": 3
   },
   "file_extension": ".py",
   "mimetype": "text/x-python",
   "name": "python",
   "nbconvert_exporter": "python",
   "pygments_lexer": "ipython3",
   "version": "3.12.3"
  }
 },
 "nbformat": 4,
 "nbformat_minor": 5
}
